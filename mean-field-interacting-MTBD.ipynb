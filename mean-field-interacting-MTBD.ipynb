{
 "cells": [
  {
   "cell_type": "markdown",
   "metadata": {},
   "source": [
    "## Simple MTBD with moment-mediated mean-field interaction"
   ]
  },
  {
   "cell_type": "code",
   "execution_count": 1,
   "metadata": {},
   "outputs": [],
   "source": [
    "import jax\n",
    "import jax.numpy as jnp\n",
    "import diffrax as dx\n",
    "import equinox as eqx\n",
    "import jaxopt\n",
    "import matplotlib.pyplot as plt\n",
    "from matplotlib.lines import Line2D\n",
    "from matplotlib import colors\n",
    "\n",
    "jax.config.update(\"jax_enable_x64\", True)"
   ]
  },
  {
   "cell_type": "markdown",
   "metadata": {},
   "source": [
    "Type number"
   ]
  },
  {
   "cell_type": "code",
   "execution_count": 2,
   "metadata": {},
   "outputs": [],
   "source": [
    "d = 5"
   ]
  },
  {
   "cell_type": "markdown",
   "metadata": {},
   "source": [
    "Particle-wise birth and death rates"
   ]
  },
  {
   "cell_type": "code",
   "execution_count": 3,
   "metadata": {},
   "outputs": [],
   "source": [
    "λ = 1.0 * jnp.ones(d)\n",
    "λ = λ.at[0].mul(2)\n",
    "μ = 0.1 * jnp.ones(d)"
   ]
  },
  {
   "cell_type": "markdown",
   "metadata": {},
   "source": [
    "Type transition rate matrix"
   ]
  },
  {
   "cell_type": "code",
   "execution_count": 4,
   "metadata": {},
   "outputs": [],
   "source": [
    "Γ = jax.scipy.linalg.toeplitz(jnp.exp(-1.0 * jnp.arange(d)))\n",
    "Γ = Γ.at[jnp.arange(d), jnp.arange(d)].set(0)\n",
    "Γ = Γ.at[jnp.arange(d), jnp.arange(d)].set(-Γ.sum(1))"
   ]
  },
  {
   "cell_type": "markdown",
   "metadata": {},
   "source": [
    "Plot $\\lambda$, $\\mu$, and $\\Gamma$"
   ]
  },
  {
   "cell_type": "code",
   "execution_count": 5,
   "metadata": {},
   "outputs": [
    {
     "data": {
      "image/png": "[encoded data removed]",
      "text/plain": [
       "<Figure size 600x250 with 4 Axes>"
      ]
     },
     "metadata": {},
     "output_type": "display_data"
    }
   ],
   "source": [
    "fig = plt.figure(figsize=(6, 2.5))\n",
    "\n",
    "ax0 = plt.subplot2grid((2, 2), (0, 0))  # for ax[0]\n",
    "ax1 = plt.subplot2grid((2, 2), (1, 0))  # for ax[1]\n",
    "ax2 = plt.subplot2grid((2, 2), (0, 1), rowspan=2)  # for ax[2]\n",
    "\n",
    "type_names = range(1, d + 1)\n",
    "\n",
    "ax0.bar(type_names, λ, color=\"k\", width=0.5)\n",
    "ax0.set_xticklabels([])\n",
    "ax0.set_ylabel(\"λ\")\n",
    "\n",
    "ax1.bar(type_names, μ, color=\"k\", width=0.5)\n",
    "ax1.set_xticks(type_names)\n",
    "ax1.set_xlabel(\"type\")\n",
    "ax1.set_ylabel(\"μ\")\n",
    "\n",
    "cmap = ax2.imshow(Γ, cmap=\"coolwarm\")\n",
    "ax2.set_xticks(range(d))\n",
    "ax2.set_xticklabels(type_names)\n",
    "ax2.set_yticks(range(d))\n",
    "ax2.set_yticklabels(type_names)\n",
    "ax2.set_xlabel(\"type\")\n",
    "ax2.set_ylabel(\"type\")\n",
    "ax2.set_title(\"Γ\")\n",
    "\n",
    "cmap = fig.colorbar(cmap, ax=ax2, shrink=1.0)\n",
    "\n",
    "plt.tight_layout()\n",
    "plt.savefig(\"output/params.pdf\")\n",
    "plt.show()\n"
   ]
  },
  {
   "cell_type": "markdown",
   "metadata": {},
   "source": [
    "Weights on the death rate modulator"
   ]
  },
  {
   "cell_type": "code",
   "execution_count": 6,
   "metadata": {},
   "outputs": [
    {
     "data": {
      "text/plain": [
       "Array([[0.002, 0.002, 0.002, 0.002, 0.002],\n",
       "       [0.002, 0.002, 0.002, 0.002, 0.002],\n",
       "       [0.002, 0.002, 0.002, 0.002, 0.002],\n",
       "       [0.002, 0.002, 0.002, 0.002, 0.002],\n",
       "       [0.002, 0.002, 0.002, 0.002, 0.002]], dtype=float64)"
      ]
     },
     "execution_count": 6,
     "metadata": {},
     "output_type": "execute_result"
    }
   ],
   "source": [
    "# W = jnp.zeros(d)\n",
    "W = jnp.ones((d, d))\n",
    "# W = jnp.eye(d)\n",
    "# W = (jnp.ones((d, d)) - 0.6 * jnp.eye(d))\n",
    "\n",
    "W = 0.01 * W / jnp.linalg.norm(W)\n",
    "\n",
    "W"
   ]
  },
  {
   "cell_type": "markdown",
   "metadata": {},
   "source": [
    "We model the process on the interval $[0,\\tau]$."
   ]
  },
  {
   "cell_type": "code",
   "execution_count": 7,
   "metadata": {},
   "outputs": [],
   "source": [
    "τ = 10.0"
   ]
  },
  {
   "cell_type": "markdown",
   "metadata": {},
   "source": [
    "We'll take the stationary state of the type transition rate matrix as the initial condition $\\mathbf{r}_0$."
   ]
  },
  {
   "cell_type": "code",
   "execution_count": 8,
   "metadata": {},
   "outputs": [
    {
     "data": {
      "text/plain": [
       "Array([0.2, 0.2, 0.2, 0.2, 0.2], dtype=float64)"
      ]
     },
     "execution_count": 8,
     "metadata": {},
     "output_type": "execute_result"
    }
   ],
   "source": [
    "M_aug = jnp.vstack((Γ.T[:-1], jnp.ones(d)))\n",
    "b = jnp.concatenate((jnp.zeros(d - 1), jnp.array([1])))\n",
    "r0 = jnp.linalg.solve(M_aug, b)\n",
    "r0"
   ]
  },
  {
   "cell_type": "code",
   "execution_count": 9,
   "metadata": {},
   "outputs": [],
   "source": [
    "@jax.jit\n",
    "def f(t, v, φ):\n",
    "    return (jnp.diag(λ - (μ + W @ φ.evaluate(t))) + Γ) @ v"
   ]
  },
  {
   "cell_type": "code",
   "execution_count": 10,
   "metadata": {},
   "outputs": [],
   "source": [
    "@jax.jit\n",
    "def 𝒯(φ):\n",
    "    return dx.diffeqsolve(dx.ODETerm(f), dx.Kvaerno5(), 0.0, τ, 1e-3 * τ, r0, args=φ,\n",
    "                          saveat=dx.SaveAt(dense=True),\n",
    "                          stepsize_controller=dx.PIDController(rtol=1e-8, atol=1e-8),\n",
    "                          max_steps=100000)"
   ]
  },
  {
   "cell_type": "markdown",
   "metadata": {},
   "source": [
    "We'll use the solution of the free system (without mean-field interaction) for the initial field trajectory."
   ]
  },
  {
   "cell_type": "code",
   "execution_count": 11,
   "metadata": {},
   "outputs": [],
   "source": [
    "class FreeSolution(eqx.Module):\n",
    "    def evaluate(self, t):\n",
    "        A = jax.scipy.linalg.expm((jnp.diag(λ - μ) + Γ) * t)\n",
    "        return A @ r0\n",
    "    \n",
    "class LinearSolution(eqx.Module):\n",
    "    slope: float\n",
    "    def evaluate(self, t):\n",
    "        return self.slope * r0 * t"
   ]
  },
  {
   "cell_type": "markdown",
   "metadata": {},
   "source": [
    "The transcendental equation for the critical field"
   ]
  },
  {
   "cell_type": "code",
   "execution_count": 12,
   "metadata": {},
   "outputs": [],
   "source": [
    "def criticality(φ):\n",
    "    return (jnp.diag(λ - (μ + W @ φ)) + Γ) @ φ"
   ]
  },
  {
   "cell_type": "code",
   "execution_count": 13,
   "metadata": {},
   "outputs": [],
   "source": [
    "time_grid = jnp.linspace(0.0, τ, 1000)"
   ]
  },
  {
   "cell_type": "code",
   "execution_count": 14,
   "metadata": {},
   "outputs": [
    {
     "name": "stdout",
     "output_type": "stream",
     "text": [
      "Converged to error 7.89e-07 < 1.00e-06 after 29 iterations\n"
     ]
    }
   ],
   "source": [
    "φ = FreeSolution()\n",
    "# φ = LinearSolution(slope=10.0)\n",
    "converged = False\n",
    "tol = 1e-6\n",
    "max_iter = 1000\n",
    "for i in range(max_iter):\n",
    "    φ_old = φ\n",
    "    φ = 𝒯(φ)\n",
    "    φ_old_sample = jax.vmap(φ_old.evaluate)(time_grid)\n",
    "    φ_sample = jax.vmap(φ.evaluate)(time_grid)\n",
    "    error = jnp.linalg.norm((jnp.log(φ_sample) - jnp.log(φ_old_sample)) / jnp.log(φ_old_sample), ord=\"fro\")\n",
    "    assert not jnp.isnan(φ_sample).any(), φ_sample\n",
    "    if error < tol:\n",
    "        print(f\"Converged to error {error:.2e} < {tol:.2e} after {i} iterations\")\n",
    "        converged = True\n",
    "        break\n",
    "if not converged:\n",
    "    print(f\"Did not converge: error = {error:.2e} after {i} iterations\")\n",
    "\n",
    "critical_solver = jaxopt.ScipyRootFinding(method=\"hybr\", optimality_fun=criticality)\n",
    "φ_critical, state = critical_solver.run(φ.evaluate(τ))\n",
    "assert state.success"
   ]
  },
  {
   "cell_type": "code",
   "execution_count": 15,
   "metadata": {},
   "outputs": [
    {
     "data": {
      "image/png": "[encoded data removed]",
      "text/plain": [
       "<Figure size 300x250 with 1 Axes>"
      ]
     },
     "metadata": {},
     "output_type": "display_data"
    }
   ],
   "source": [
    "plt.figure(figsize=(3, 2.5))\n",
    "\n",
    "plt.stackplot(time_grid, jax.vmap(φ.evaluate)(time_grid).T)\n",
    "plt.axhline(φ_critical.sum(), color=\"black\", ls=\"--\")\n",
    "plt.xlabel(\"time\")\n",
    "plt.ylabel(\"expected particle number\")\n",
    "plt.xlim(0, τ)\n",
    "plt.ylim(0, 1.05 * φ_critical.sum())\n",
    "\n",
    "plt.tight_layout()\n",
    "# plt.savefig(\"output/free.pdf\")\n",
    "plt.savefig(\"output/capacity.pdf\")\n",
    "# plt.savefig(\"output/nfds.pdf\")\n",
    "# plt.savefig(\"output/pfds.pdf\")\n",
    "plt.show()"
   ]
  },
  {
   "cell_type": "code",
   "execution_count": null,
   "metadata": {},
   "outputs": [],
   "source": []
  }
 ],
 "metadata": {
  "kernelspec": {
   "display_name": "mfbd",
   "language": "python",
   "name": "python3"
  },
  "language_info": {
   "codemirror_mode": {
    "name": "ipython",
    "version": 3
   },
   "file_extension": ".py",
   "mimetype": "text/x-python",
   "name": "python",
   "nbconvert_exporter": "python",
   "pygments_lexer": "ipython3",
   "version": "3.10.11"
  },
  "orig_nbformat": 4
 },
 "nbformat": 4,
 "nbformat_minor": 2
}
