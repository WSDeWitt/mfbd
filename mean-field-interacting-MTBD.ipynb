{
 "cells": [
  {
   "cell_type": "markdown",
   "metadata": {},
   "source": [
    "## Simple MTBD with moment-mediated mean-field interaction"
   ]
  },
  {
   "cell_type": "code",
   "execution_count": 1,
   "metadata": {},
   "outputs": [],
   "source": [
    "import jax\n",
    "import jax.numpy as jnp\n",
    "import diffrax as dx\n",
    "import jaxopt\n",
    "import matplotlib.pyplot as plt\n",
    "\n",
    "jax.config.update(\"jax_enable_x64\", True)"
   ]
  },
  {
   "cell_type": "markdown",
   "metadata": {},
   "source": [
    "Type number"
   ]
  },
  {
   "cell_type": "code",
   "execution_count": 2,
   "metadata": {},
   "outputs": [],
   "source": [
    "d = 5"
   ]
  },
  {
   "cell_type": "markdown",
   "metadata": {},
   "source": [
    "Particle-wise birth and death rates"
   ]
  },
  {
   "cell_type": "code",
   "execution_count": 3,
   "metadata": {},
   "outputs": [
    {
     "data": {
      "text/plain": [
       "Array([2., 1., 1., 1., 1.], dtype=float64)"
      ]
     },
     "execution_count": 3,
     "metadata": {},
     "output_type": "execute_result"
    }
   ],
   "source": [
    "λ = 1.0 * jnp.ones(d)\n",
    "λ = λ.at[0].mul(2)\n",
    "λ"
   ]
  },
  {
   "cell_type": "code",
   "execution_count": 4,
   "metadata": {},
   "outputs": [
    {
     "data": {
      "text/plain": [
       "Array([0.1, 0.1, 0.1, 0.1, 0.1], dtype=float64)"
      ]
     },
     "execution_count": 4,
     "metadata": {},
     "output_type": "execute_result"
    }
   ],
   "source": [
    "μ = 0.1 * jnp.ones(d)\n",
    "μ"
   ]
  },
  {
   "cell_type": "markdown",
   "metadata": {},
   "source": [
    "Type transition rate matrix"
   ]
  },
  {
   "cell_type": "code",
   "execution_count": 5,
   "metadata": {},
   "outputs": [],
   "source": [
    "Γ = jax.scipy.linalg.toeplitz(jnp.exp(-1.0 * jnp.arange(d)))\n",
    "Γ = Γ.at[jnp.arange(d), jnp.arange(d)].set(0)\n",
    "Γ = Γ.at[jnp.arange(d), jnp.arange(d)].set(-Γ.sum(1))"
   ]
  },
  {
   "cell_type": "markdown",
   "metadata": {},
   "source": [
    "Plot $\\lambda$, $\\mu$, and $\\Gamma$"
   ]
  },
  {
   "cell_type": "code",
   "execution_count": 6,
   "metadata": {},
   "outputs": [
    {
     "data": {
      "image/png": "[encoded data removed]",
      "text/plain": [
       "<Figure size 600x250 with 4 Axes>"
      ]
     },
     "metadata": {},
     "output_type": "display_data"
    }
   ],
   "source": [
    "fig = plt.figure(figsize=(6, 2.5))\n",
    "\n",
    "ax0 = plt.subplot2grid((2, 2), (0, 0))  # for ax[0]\n",
    "ax1 = plt.subplot2grid((2, 2), (1, 0))  # for ax[1]\n",
    "ax2 = plt.subplot2grid((2, 2), (0, 1), rowspan=2)  # for ax[2]\n",
    "\n",
    "type_names = range(1, d + 1)\n",
    "\n",
    "ax0.bar(type_names, λ, color=\"k\", width=0.5)\n",
    "ax0.set_xticklabels([])\n",
    "ax0.set_yticks([0, 1, 2])\n",
    "ax0.axhline(1, color=\"k\", linestyle=\"--\", linewidth=0.5)\n",
    "ax0.axhline(2, color=\"k\", linestyle=\"--\", linewidth=0.5)\n",
    "ax0.set_ylabel(\"λ\")\n",
    "\n",
    "ax1.bar(type_names, μ, color=\"k\", width=0.5)\n",
    "ax1.axhline(0.1, color=\"k\", linestyle=\"--\", linewidth=0.5)\n",
    "ax1.set_xticks(type_names)\n",
    "ax1.set_xlabel(\"type\")\n",
    "ax1.set_ylabel(\"μ\")\n",
    "\n",
    "cmap = ax2.imshow(Γ, cmap=\"coolwarm\")\n",
    "ax2.set_xticks(range(d))\n",
    "ax2.set_xticklabels(type_names)\n",
    "ax2.set_yticks(range(d))\n",
    "ax2.set_yticklabels(type_names)\n",
    "ax2.set_xlabel(\"type\")\n",
    "ax2.set_ylabel(\"type\")\n",
    "ax2.set_title(\"Γ\")\n",
    "\n",
    "for i in range(d):\n",
    "    for j in range(d):\n",
    "        text = ax2.text(j, i, f\"{Γ[i, j]:.2f}\",\n",
    "                       ha=\"center\", va=\"center\", color=\"w\", size=7)\n",
    "\n",
    "cmap = fig.colorbar(cmap, ax=ax2, shrink=1.0)\n",
    "\n",
    "plt.tight_layout()\n",
    "plt.savefig(\"output/params.pdf\")\n",
    "plt.show()\n"
   ]
  },
  {
   "cell_type": "markdown",
   "metadata": {},
   "source": [
    "Weights on the death rate modulator"
   ]
  },
  {
   "cell_type": "code",
   "execution_count": 7,
   "metadata": {},
   "outputs": [
    {
     "data": {
      "text/plain": [
       "Array([[0.002, 0.002, 0.002, 0.002, 0.002],\n",
       "       [0.002, 0.002, 0.002, 0.002, 0.002],\n",
       "       [0.002, 0.002, 0.002, 0.002, 0.002],\n",
       "       [0.002, 0.002, 0.002, 0.002, 0.002],\n",
       "       [0.002, 0.002, 0.002, 0.002, 0.002]], dtype=float64)"
      ]
     },
     "execution_count": 7,
     "metadata": {},
     "output_type": "execute_result"
    }
   ],
   "source": [
    "# interaction_type = \"free\"\n",
    "interaction_type = \"capacity\"\n",
    "# interaction_type = \"nfds\"\n",
    "# interaction_type = \"pfds\"\n",
    "\n",
    "match interaction_type:\n",
    "    case \"free\":\n",
    "        W = jnp.zeros((d, d))\n",
    "    case \"capacity\":\n",
    "        W = jnp.ones((d, d))\n",
    "    case \"nfds\":\n",
    "        W = jnp.eye(d)\n",
    "    case \"pfds\":\n",
    "        W = (jnp.ones((d, d)) - 0.6 * jnp.eye(d))\n",
    "    case _:\n",
    "        raise ValueError(f\"Unknown interaction type {interaction_type}\")\n",
    "\n",
    "if interaction_type != \"free\":\n",
    "    W = 0.01 * W / jnp.linalg.norm(W)\n",
    "\n",
    "W"
   ]
  },
  {
   "cell_type": "markdown",
   "metadata": {},
   "source": [
    "We model the process on the interval $[0,\\tau]$."
   ]
  },
  {
   "cell_type": "code",
   "execution_count": 8,
   "metadata": {},
   "outputs": [],
   "source": [
    "τ = 10.0"
   ]
  },
  {
   "cell_type": "markdown",
   "metadata": {},
   "source": [
    "We'll take the stationary state of the type transition rate matrix as the initial condition $\\mathbf{r}_0$."
   ]
  },
  {
   "cell_type": "code",
   "execution_count": 9,
   "metadata": {},
   "outputs": [
    {
     "data": {
      "text/plain": [
       "Array([0.2, 0.2, 0.2, 0.2, 0.2], dtype=float64)"
      ]
     },
     "execution_count": 9,
     "metadata": {},
     "output_type": "execute_result"
    }
   ],
   "source": [
    "M_aug = jnp.vstack((Γ.T[:-1], jnp.ones(d)))\n",
    "b = jnp.concatenate((jnp.zeros(d - 1), jnp.array([1])))\n",
    "r0 = jnp.linalg.solve(M_aug, b)\n",
    "r0"
   ]
  },
  {
   "cell_type": "code",
   "execution_count": 10,
   "metadata": {},
   "outputs": [],
   "source": [
    "@jax.jit\n",
    "def f(t, r, φ):\n",
    "    return (jnp.diag(λ - (μ + W @ r)) + Γ) @ r"
   ]
  },
  {
   "cell_type": "markdown",
   "metadata": {},
   "source": [
    "We'll use the solution of the free system (without mean-field interaction) for the initial field trajectory."
   ]
  },
  {
   "cell_type": "markdown",
   "metadata": {},
   "source": [
    "The transcendental equation for the critical field"
   ]
  },
  {
   "cell_type": "code",
   "execution_count": 11,
   "metadata": {},
   "outputs": [],
   "source": [
    "def criticality(φ):\n",
    "    return (jnp.diag(λ - (μ + W @ φ)) + Γ) @ φ"
   ]
  },
  {
   "cell_type": "code",
   "execution_count": 12,
   "metadata": {},
   "outputs": [],
   "source": [
    "time_grid = jnp.linspace(0.0, τ, 1000)"
   ]
  },
  {
   "cell_type": "code",
   "execution_count": 13,
   "metadata": {},
   "outputs": [],
   "source": [
    "solver = dx.Dopri8()\n",
    "stepsize_controller = dx.PIDController(rtol=1e-8, atol=1e-8)"
   ]
  },
  {
   "cell_type": "code",
   "execution_count": 14,
   "metadata": {},
   "outputs": [
    {
     "name": "stdout",
     "output_type": "stream",
     "text": [
      "% --- AUTOGENERATED REFERENCES PRODUCED USING `diffrax.citation(...)` ---\n",
      "% The following references were found for the numerical techniques being used.\n",
      "% This does not cover e.g. any modelling techniques being used.\n",
      "% If you think a paper is missing from here then open an issue or pull request at\n",
      "% https://github.com/patrick-kidger/diffrax\n",
      "\n",
      "% You are using Diffrax, which is citable as:\n",
      "phdthesis{kidger2021on,\n",
      "    title={{O}n {N}eural {D}ifferential {E}quations},\n",
      "    author={Patrick Kidger},\n",
      "    year={2021},\n",
      "    school={University of Oxford},\n",
      "}\n",
      "\n",
      "% You are using Equinox, which is citable as:\n",
      "@article{kidger2021equinox,\n",
      "    author={Patrick Kidger and Cristian Garcia},\n",
      "    title={{E}quinox: neural networks in {JAX} via callable {P}y{T}rees and\n",
      "           filtered transformations},\n",
      "    year={2021},\n",
      "    journal={Differentiable Programming workshop at Neural Information Processing\n",
      "             Systems 2021}\n",
      "}\n",
      "\n",
      "% You are using JAX, which is citable as:\n",
      "@software{jax2018github,\n",
      "  author = {James Bradbury and Roy Frostig and Peter Hawkins and Matthew James Johnson\n",
      "            and Chris Leary and Dougal Maclaurin and George Necula and Adam Paszke and\n",
      "            Jake Vander{P}las and Skye Wanderman-{M}ilne and Qiao Zhang},\n",
      "  title = {{JAX}: composable transformations of {P}ython+{N}um{P}y programs},\n",
      "  url = {http://github.com/google/jax},\n",
      "  version = {0.4.25},\n",
      "  year = {2018},\n",
      "}\n",
      "\n",
      "% You are using an explicit solver, and may wish to cite the standard textbook:\n",
      "@book{hairer2008solving-i,\n",
      "  address={Berlin},\n",
      "  author={Hairer, E. and N{\\o}rsett, S.P. and Wanner, G.},\n",
      "  edition={Second Revised Edition},\n",
      "  publisher={Springer},\n",
      "  title={{S}olving {O}rdinary {D}ifferential {E}quations {I} {N}onstiff\n",
      "         {P}roblems},\n",
      "  year={2008}\n",
      "}\n",
      "\n",
      "% Dormand--Prince 8(7) was introduced in:\n",
      "@article{prince1981high,\n",
      "    author={Prince, P. J and Dormand, J. R.},\n",
      "    title={High order embedded {R}unge--{K}utta formulae},\n",
      "    journal={J. Comp. Appl. Math},\n",
      "    year={1981},\n",
      "    volume={7},\n",
      "    number={1},\n",
      "    pages={67--75}\n",
      "}\n",
      "\n",
      "% The use of an I-controller to adapt step sizes is from Section II.4 of:\n",
      "@book{hairer2008solving-i,\n",
      "  address={Berlin},\n",
      "  author={Hairer, E. and N{\\o}rsett, S.P. and Wanner, G.},\n",
      "  edition={Second Revised Edition},\n",
      "  publisher={Springer},\n",
      "  title={{S}olving {O}rdinary {D}ifferential {E}quations {I} {N}onstiff\n",
      "         {P}roblems},\n",
      "  year={2008}\n",
      "}\n",
      "\n",
      "% --- END AUTOGENERATED REFERENCES ---\n"
     ]
    }
   ],
   "source": [
    "dx.citation(solver=solver, stepsize_controller=stepsize_controller)\n"
   ]
  },
  {
   "cell_type": "code",
   "execution_count": 15,
   "metadata": {},
   "outputs": [],
   "source": [
    "sol = dx.diffeqsolve(dx.ODETerm(f),\n",
    "                      solver,\n",
    "                      0.0,\n",
    "                      τ,\n",
    "                      1e-3 * τ,\n",
    "                      r0,\n",
    "                      saveat=dx.SaveAt(dense=True),\n",
    "                      stepsize_controller=stepsize_controller,\n",
    "                      max_steps=100000)\n",
    "\n",
    "critical_solver = jaxopt.ScipyRootFinding(method=\"hybr\", optimality_fun=criticality)\n",
    "φ_critical, state = critical_solver.run(sol.evaluate(τ))\n",
    "assert state.success"
   ]
  },
  {
   "cell_type": "code",
   "execution_count": 16,
   "metadata": {},
   "outputs": [
    {
     "data": {
      "image/png": "[encoded data removed]",
      "text/plain": [
       "<Figure size 300x250 with 1 Axes>"
      ]
     },
     "metadata": {},
     "output_type": "display_data"
    }
   ],
   "source": [
    "if interaction_type == \"free\":\n",
    "    plt.figure(figsize=(2.5, 2.5))\n",
    "    plt.plot(time_grid, jax.vmap(sol.evaluate)(time_grid))\n",
    "    plt.yscale(\"log\")\n",
    "else:\n",
    "    plt.figure(figsize=(3, 2.5))\n",
    "    plt.stackplot(time_grid, jax.vmap(sol.evaluate)(time_grid).T)\n",
    "    plt.axhline(φ_critical.sum(), color=\"black\", ls=\"--\")\n",
    "    plt.ylim(0, 1.05 * φ_critical.sum())\n",
    "plt.xlabel(\"time\")\n",
    "plt.ylabel(\"expected particle number\")\n",
    "plt.xlim(0, τ)\n",
    "\n",
    "plt.tight_layout()\n",
    "plt.savefig(f\"output/{interaction_type}.pdf\")\n",
    "plt.show()"
   ]
  },
  {
   "cell_type": "code",
   "execution_count": null,
   "metadata": {},
   "outputs": [],
   "source": []
  }
 ],
 "metadata": {
  "kernelspec": {
   "display_name": "mfbd",
   "language": "python",
   "name": "python3"
  },
  "language_info": {
   "codemirror_mode": {
    "name": "ipython",
    "version": 3
   },
   "file_extension": ".py",
   "mimetype": "text/x-python",
   "name": "python",
   "nbconvert_exporter": "python",
   "pygments_lexer": "ipython3",
   "version": "3.12.2"
  },
  "orig_nbformat": 4
 },
 "nbformat": 4,
 "nbformat_minor": 2
}
