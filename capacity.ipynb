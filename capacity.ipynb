{
 "cells": [
  {
   "attachments": {},
   "cell_type": "markdown",
   "metadata": {},
   "source": [
    "# Mean-field approximation of a branching process with a carrying capacity"
   ]
  },
  {
   "attachments": {},
   "cell_type": "markdown",
   "metadata": {},
   "source": [
    "## Nonlinear Yule process\n",
    "\n",
    "We consider a nonlinear variation on the Yule (simple pure-birth) process.\n",
    "\n",
    "---\n",
    "**Note**\n",
    "The model below seems like a special case of what this paper describes: https://arxiv.org/abs/1510.03238\n",
    "\n",
    "Actually, is this paper doing essentially the same thing we are, restricted to the single-type case?\n",
    "\n",
    "---"
   ]
  },
  {
   "attachments": {},
   "cell_type": "markdown",
   "metadata": {},
   "source": [
    "### Standard Yule process\n",
    "\n",
    "The continuous-time Markov chain $X_t$ takes values in $\\mathbb{N}_0$ representing particle number (or population size).\n",
    "WLOG set the particle birth rate to unity, so that the total birth rate is simply equal to the population size $X_t$ (this is equivalent to setting the timescale).\n",
    "Let $p_n(t) \\equiv \\mathbb{P}(X_t=n)$.\n",
    "Then the standard Yule process master equation is\n",
    "$$\n",
    "p'_n(t) = (n - 1) \\, p_{n - 1}(t) - n \\, p_n(t), \\quad n=1,2,\\ldots,\n",
    "$$\n",
    "With initial conditions\n",
    "$$\n",
    "p_n(0) = \\delta_{n,1} \\quad n=0,1,\\ldots.\n",
    "$$\n",
    "In row vector form we write\n",
    "$$\n",
    "\\mathbf{p}'(t) = \\mathbf{p}(t)Q, \\quad \\mathbf{p}(0) = \\mathbf{e}_1,\n",
    "$$\n",
    "where $\\mathbf{e}_1 = [0, 1, 0, 0, \\dots]$ is the indicator distribution for an atom at $n=1$ (also the second canonical basis vector of $\\mathbb{R}^\\infty$, if we adopt 0-based indexing),\n",
    "and $Q$ denotes the transition rate matrix\n",
    "$$\n",
    "Q \\equiv \\begin{bmatrix}\n",
    "0 & 0 & 0 & 0 & \\cdots\\\\\n",
    "0 & -1  & 1 & 0 & \\cdots\\\\\n",
    "0 & 0 & -2 & 2 & \\cdots\\\\\n",
    "0 & 0 & 0 & -3 & \\cdots\\\\\n",
    "\\vdots & \\vdots & \\vdots & \\vdots & \\ddots\n",
    "\\end{bmatrix}\n",
    "$$"
   ]
  },
  {
   "attachments": {},
   "cell_type": "markdown",
   "metadata": {},
   "source": [
    "### Modeling carrying capacity\n",
    "\n",
    "#### Strong coupling\n",
    "\n",
    "Now, consider a logistically modulated birth rate parameterized by a carrying capacity $\\kappa\\in\\mathbb{N}$, such that the particle-wise birth rate of the process $X_t$ is\n",
    "$$\n",
    "1 - \\frac{1}{\\kappa}X_t,\n",
    "$$\n",
    "and thus stochastic.\n",
    "If $\\kappa$ is large, then the birth rate initially remains approximately unity, but as the population size approaches the capacity $\\kappa$, the birth rate decays to zero.\n",
    "Whereas the standard Yule process enjoys independence for any partition of the population, the modulation proposed above introduces interactions that render it a fully coupled many-particle system.\n",
    "\n",
    "#### Mean-field coupling\n",
    "\n",
    "We propose a mean-field approximation to this system by introducing an $N$-system of replica Yule processes $X_t^{1,N},\\dots, X_t^{N,N}$ that are weakly coupled via their empirical measure, rather than strongly coupled via their state as above.\n",
    "In this approximation, the birth rate of each particle in each replica $i$ depends on the mean population size over replicas as\n",
    "$$\n",
    "1 - \\frac{1}{\\kappa}\\frac{1}{N}\\sum_{i=1}^N X_t^{i,N} = 1 - \\frac{1}{\\kappa}\\frac{1}{N}\\sum_{i=1}^N\\sum_{n=0}^\\infty \\delta_{X_t^{i,N}}(n) = 1 - \\frac{1}{\\kappa}\\mathbb{E}_{Y\\sim\\mathcal{P}^N_t}[Y],\n",
    "$$\n",
    "where $\\mathcal{P}^N_t$ denotes the stochastic empirical measure of the $N$-system at time $t$,\n",
    "$$\n",
    "\\mathcal{P}^N_t \\equiv \\frac{1}{N}\\sum_{i=1}^N \\delta_{X_t^{i,N}}.\n",
    "$$\n",
    "\n",
    "#### Propagation of chaos\n",
    "\n",
    "By propagation of chaos, there exists a deterministic measure $\\mu_t$ such that $\\mathcal{P}^N_t \\to \\mathcal{P}^\\infty_t = \\mu_t$ as $N\\to\\infty$, and $X_t^{i,\\infty}\\sim \\mu_t \\ \\ \\forall i$.\n",
    "In this limit, all interaction has disappeared, and we have the limiting birth rate\n",
    "$$\n",
    "1 - \\frac{1}{\\kappa}\\mathbb{E}_{X_t\\sim\\mu_t}[X_t],\n",
    "$$\n",
    "Furthermore, because the deterministic measure $\\mu_t$ is the measure of the population size for one replica, we arrive at a nonlinear master equation in the mean-field limit\n",
    "$$\n",
    "\\mathbf{p}'(t) = \\mathbf{p}(t) \\, Q \\left(1 - \\frac{1}{\\kappa}\\mathbf{s}\\,\\mathbf{p}^\\intercal(t)\\right), \\quad \\mathbf{p}(0) = \\mathbf{e}_1,\n",
    "$$\n",
    "where $\\mathbf{s} \\equiv [0, 1, \\dots]$ is the enumerated state space vector.\n",
    "\n"
   ]
  },
  {
   "attachments": {},
   "cell_type": "markdown",
   "metadata": {},
   "source": [
    "### Equilibrium distribution\n",
    "\n",
    "Stationary solutions $\\boldsymbol{\\pi}$ satisfy\n",
    "$$\n",
    "\\mathbf{0} = \\boldsymbol{\\pi} Q\\left(1 - \\frac{1}{\\kappa}\\mathbf{s}\\,\\boldsymbol{\\pi}^\\intercal\\right).\n",
    "$$\n",
    "Since $\\boldsymbol{\\pi}$ is a probability mass function, we also have $|\\mathbf{1}\\boldsymbol{\\pi}|_1 = 1$.\n",
    "Clearly any $\\boldsymbol{\\pi}$ with mean $\\kappa$ is stationary.\n",
    "If $\\boldsymbol{\\pi}$ is an equilibrium state, it must also be stable.\n",
    "To establish stability, we introduce the perturbed solution $\\boldsymbol{p}(t) = \\boldsymbol{\\pi} + \\boldsymbol{\\epsilon}(t)$.\n",
    "Note that we must have $\\boldsymbol{\\epsilon}(t) \\ge -\\boldsymbol{\\pi}$ and $|\\boldsymbol{\\epsilon}(t)|_1 = 0 \\ \\ \\forall t$ so that the perturbed solution is a probability mass function.\n",
    "Additionally, we might want to require that the perturbation of the mean of the distribution away from $\\kappa$ is also small, so let the entries of $\\boldsymbol{\\epsilon}(t)$ decay fast enough to ensure that $|\\mathbf{s}\\,\\boldsymbol{\\epsilon}^\\intercal(t)| \\ll \\kappa \\ \\ \\forall t$.\n",
    "\n",
    "The master equation perturbed about a stationary solution is\n",
    "$$\n",
    "\\begin{align*}\n",
    "\\boldsymbol{\\epsilon}'(t) &= -\\frac{1}{\\kappa}\\mathbf{s}\\,\\boldsymbol{\\epsilon}^\\intercal(t)(\\boldsymbol{\\pi} + \\boldsymbol{\\epsilon}(t)) Q\\\\\n",
    "&= -\\frac{1}{\\kappa}\\mathbf{s}\\,\\boldsymbol{\\epsilon}^\\intercal(t)\\boldsymbol{\\pi} Q + O(|\\boldsymbol{\\epsilon}(t)|^2)\\\\\n",
    "\\end{align*}\n",
    "$$\n",
    "and linearizing about $\\boldsymbol{\\pi}$ gives\n",
    "$$\n",
    "\\boldsymbol{\\epsilon}'(t) \\approx \\boldsymbol{\\epsilon} A\n",
    "$$\n",
    "where\n",
    "$$\n",
    "A \\equiv -\\frac{1}{\\kappa} \\ \\mathbf{s}^\\intercal\\boldsymbol{\\pi} Q"
   ]
  },
  {
   "attachments": {},
   "cell_type": "markdown",
   "metadata": {},
   "source": [
    "## Numerical experiments\n",
    "\n",
    "We will numerically solve the above ODE system by truncating the state space $\\mathbb{N}_0$ to $\\{0,1,\\ldots,N\\}$ for some $N>\\kappa\\in\\mathbb{N}$."
   ]
  },
  {
   "attachments": {},
   "cell_type": "markdown",
   "metadata": {},
   "source": [
    "Import a few packages."
   ]
  },
  {
   "cell_type": "code",
   "execution_count": 33,
   "metadata": {},
   "outputs": [],
   "source": [
    "import jax\n",
    "import jax.numpy as jnp\n",
    "from jax.experimental.sparse import BCOO\n",
    "import diffrax as dx\n",
    "import matplotlib.pyplot as plt"
   ]
  },
  {
   "attachments": {},
   "cell_type": "markdown",
   "metadata": {},
   "source": [
    "Set the values of $\\kappa$ and $N$."
   ]
  },
  {
   "cell_type": "code",
   "execution_count": 34,
   "metadata": {},
   "outputs": [],
   "source": [
    "κ = 50\n",
    "N = 5 * κ"
   ]
  },
  {
   "attachments": {},
   "cell_type": "markdown",
   "metadata": {},
   "source": [
    "Define the enumerated state space vector $s$ and the transition rate matrix (for the standard Yule process) $Q$."
   ]
  },
  {
   "cell_type": "code",
   "execution_count": 35,
   "metadata": {},
   "outputs": [],
   "source": [
    "s = jnp.arange(N + 1)\n",
    "Q = BCOO.fromdense(jnp.diag(s[:-1], k=1) - jnp.diag(s, k=0))"
   ]
  },
  {
   "attachments": {},
   "cell_type": "markdown",
   "metadata": {},
   "source": [
    "The function below evaluates the RHS of the ODE for the mean-field model of carrying capacity."
   ]
  },
  {
   "cell_type": "code",
   "execution_count": 36,
   "metadata": {},
   "outputs": [],
   "source": [
    "@jax.jit\n",
    "def f(t: float, p: jax.Array, args=None):\n",
    "    return p @ Q * (1 - p @ s / κ)"
   ]
  },
  {
   "attachments": {},
   "cell_type": "markdown",
   "metadata": {},
   "source": [
    "Initial condition $p(0) = e_1$"
   ]
  },
  {
   "cell_type": "code",
   "execution_count": 5,
   "metadata": {},
   "outputs": [],
   "source": [
    "p0 = jnp.zeros(N + 1).at[1].set(1.0)"
   ]
  },
  {
   "attachments": {},
   "cell_type": "markdown",
   "metadata": {},
   "source": [
    "Set numerical solver parameters."
   ]
  },
  {
   "cell_type": "code",
   "execution_count": 37,
   "metadata": {},
   "outputs": [],
   "source": [
    "term = dx.ODETerm(f)\n",
    "solver = dx.Tsit5()\n",
    "t0 = 0.0\n",
    "t1 = 10.0\n",
    "δt = 0.01\n",
    "saveat = dx.SaveAt(ts=jnp.linspace(t0, t1, 100))"
   ]
  },
  {
   "attachments": {},
   "cell_type": "markdown",
   "metadata": {},
   "source": [
    "Run numerical solver."
   ]
  },
  {
   "cell_type": "code",
   "execution_count": 38,
   "metadata": {},
   "outputs": [],
   "source": [
    "sol = dx.diffeqsolve(\n",
    "    term,\n",
    "    solver,\n",
    "    t0,\n",
    "    t1,\n",
    "    δt,\n",
    "    p0,\n",
    "    saveat=saveat,\n",
    ")"
   ]
  },
  {
   "attachments": {},
   "cell_type": "markdown",
   "metadata": {},
   "source": [
    "Plot quantiles of the solution alongside the specified carrying capacity."
   ]
  },
  {
   "cell_type": "code",
   "execution_count": 47,
   "metadata": {},
   "outputs": [],
   "source": [
    "quantiles = [0.25, 0.75]\n",
    "cdfs = sol.ys.cumsum(axis=1)\n",
    "quantile_trajectories = jnp.zeros((len(quantiles), len(cdfs)))\n",
    "for i, q in enumerate(quantiles):\n",
    "    for j, cdf in enumerate(cdfs):\n",
    "        idx = jnp.argmax(cdf > q)\n",
    "        quantile_trajectories = quantile_trajectories.at[i, j].set(idx)\n"
   ]
  },
  {
   "cell_type": "code",
   "execution_count": 48,
   "metadata": {},
   "outputs": [],
   "source": [
    "mean_trajectory = s @ sol.ys.T"
   ]
  },
  {
   "cell_type": "code",
   "execution_count": 49,
   "metadata": {},
   "outputs": [
    {
     "data": {
      "image/png": "[encoded data removed]",
      "text/plain": [
       "<Figure size 800x600 with 1 Axes>"
      ]
     },
     "metadata": {},
     "output_type": "display_data"
    }
   ],
   "source": [
    "plt.figure(figsize=(8, 6))\n",
    "plt.axhline(κ, color=\"k\", linestyle=\"--\", label=\"$\\kappa$\")\n",
    "plt.plot(sol.ts, mean_trajectory, label=\"$\\mathbb{E}[X_t]$\")\n",
    "plt.fill_between(sol.ts, *quantile_trajectories, alpha=0.2, color=\"C0\", label=\"$\\{n\\in\\mathbb{N}_0: 0.25\\leq\\\\mathbb{P}[X_t\\leq n]\\leq 0.75\\}$\")\n",
    "plt.xlabel(\"$t$\")\n",
    "plt.legend(loc=\"upper left\")\n",
    "plt.xlim(sol.ts[0], sol.ts[-1])\n",
    "plt.ylim(0, None)\n",
    "plt.show()"
   ]
  },
  {
   "attachments": {},
   "cell_type": "markdown",
   "metadata": {},
   "source": [
    "Note that the process above, with interaction mediated by $\\mathbb{E}_p(t)[X_t]$ can transiently exceed the specified carrying capacity $\\kappa$, whereas the corresponding process with interaction mediated directly by $X_n$ would be strictly bounded by $\\kappa$."
   ]
  },
  {
   "attachments": {},
   "cell_type": "markdown",
   "metadata": {},
   "source": [
    "## Possible next steps\n",
    "\n",
    "- Find the stationary distribution for $t\\rightarrow\\infty$\n",
    "- Compare to Monte Carlo simulations:\n",
    "  - Using the empirical measure from an $N$-system, and explore convergence as $N\\rightarrow\\infty$\n",
    "  - Using the empirical population size in the focal system. I think this may be poorly approximated, because small size at small times means we have large fluctuations that are not captured by the mean-field approximation. On the other hand, if $\\kappa$ is large, then the interaction is weak during the initial period of large fluctuations, so maybe it's not so bad.\n",
    "- Characterize sensitivity to state-space truncation"
   ]
  }
 ],
 "metadata": {
  "kernelspec": {
   "display_name": "mfbd",
   "language": "python",
   "name": "python3"
  },
  "language_info": {
   "codemirror_mode": {
    "name": "ipython",
    "version": 3
   },
   "file_extension": ".py",
   "mimetype": "text/x-python",
   "name": "python",
   "nbconvert_exporter": "python",
   "pygments_lexer": "ipython3",
   "version": "3.10.11"
  },
  "orig_nbformat": 4
 },
 "nbformat": 4,
 "nbformat_minor": 2
}
