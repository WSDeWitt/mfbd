{
 "cells": [
  {
   "attachments": {},
   "cell_type": "markdown",
   "metadata": {},
   "source": [
    "# Mean-field carrying capacity"
   ]
  },
  {
   "attachments": {},
   "cell_type": "markdown",
   "metadata": {},
   "source": [
    "Import a few packages"
   ]
  },
  {
   "cell_type": "code",
   "execution_count": 2,
   "metadata": {},
   "outputs": [],
   "source": [
    "import jax\n",
    "import jax.numpy as jnp\n",
    "import diffrax as dx\n",
    "import matplotlib.pyplot as plt\n",
    "import seaborn as sns\n",
    "import pandas as pd"
   ]
  },
  {
   "attachments": {},
   "cell_type": "markdown",
   "metadata": {},
   "source": [
    "## Nonlinear Yule process"
   ]
  },
  {
   "attachments": {},
   "cell_type": "markdown",
   "metadata": {},
   "source": [
    "We consider a nonlinear variation of the Yule process $X_t$ taking values in $\\mathbb{N}_0$.\n",
    "\n",
    "Let $p_n(t) \\equiv \\mathbb{P}(X_t=n)$.\n",
    "Our nonlinearity is introduced via the particle-wise birth rate.\n",
    "Instead of the usual homogeneous rate, let $\\lambda: \\mathcal{M_1}(\\mathbb{\\N}_0) \\rightarrow \\mathbb{R}_{\\ge 0}$ be a functional of the population size distribution.\n",
    "In particular, consider a quasi-logistically modulated birth rate\n",
    "$$\n",
    "\\lambda[p(t)] = \\lambda_0 \\left(1 - \\frac{\\mathbb{E}_{p(t)}[X_t]}{\\kappa}\\right) = \\lambda_0 \\left(1 - \\frac{\\sum_{n=0}^\\infty n p_n(t)}{\\kappa}\\right),\n",
    "$$\n",
    "where $\\lambda_0\\in\\mathbb{R}_+$ is the maximum birth rate and $\\kappa\\in\\mathbb{R}_+$ is the population carrying capacity.\n",
    "This can be thought of as a mean-field approximation to carrying capacity because the logistic modulation takes the expected population size, rather than the empirical size.\n",
    "\n",
    "We now have the evolution equations\n",
    "$$\n",
    "p'_n(t) = \\lambda[p(t)] \\left((n - 1) \\, p_{n - 1}(t) - n \\, p_n(t)\\right), \\quad n=1,2,\\ldots\n",
    "$$\n",
    "with initial conditions $p_n(0) = \\delta_{n,1}$.\n"
   ]
  },
  {
   "attachments": {},
   "cell_type": "markdown",
   "metadata": {},
   "source": [
    "## Numerical experiments\n",
    "\n",
    "We will numerically solve the above evolution equation by truncating the state space $\\mathbb{N}_0$ to $\\{0,1,\\ldots,N\\}$ for some $N\\in\\mathbb{N}: N\\gg\\kappa$.\n",
    "\n",
    "We then have the vector-form evolution equations\n",
    "\n",
    "$$\n",
    "p' = p \\, Q[p],\n",
    "$$\n",
    "\n",
    "where $Q[p]$ denotes the transition rate functional\n",
    "$$\n",
    "Q[p] = \\lambda[p]\\begin{bmatrix}\n",
    "0 & 0 & 0 & 0 & \\cdots\\\\\n",
    "0 & -1  & 1 & 0 & \\cdots\\\\\n",
    "0 & 0 & -2 & 2 & \\cdots\\\\\n",
    "0 & 0 & 0 & -3 & \\cdots\\\\\n",
    "\\vdots & \\vdots & \\vdots & \\vdots & \\ddots\n",
    "\\end{bmatrix}.\n",
    "$$"
   ]
  },
  {
   "attachments": {},
   "cell_type": "markdown",
   "metadata": {},
   "source": [
    "This function evaluates the RHS of the above ODE."
   ]
  },
  {
   "cell_type": "code",
   "execution_count": 90,
   "metadata": {},
   "outputs": [],
   "source": [
    "@jax.jit\n",
    "def f(t: float, p: jax.Array, κ: float):\n",
    "    # NOTE: unit intrinsic birth rate λ_0 = 1\n",
    "    n = jnp.arange(len(p))\n",
    "    λ = 1 - jnp.sum(n * p) / κ\n",
    "    Q = λ * (jnp.diag(n[:-1], k=1) - jnp.diag(n, k=0))\n",
    "    return p @ Q"
   ]
  },
  {
   "attachments": {},
   "cell_type": "markdown",
   "metadata": {},
   "source": [
    "Numerically solve"
   ]
  },
  {
   "cell_type": "code",
   "execution_count": 139,
   "metadata": {},
   "outputs": [],
   "source": [
    "term = dx.ODETerm(f)\n",
    "solver = dx.Tsit5()\n",
    "t0 = 0.0\n",
    "t1 = 10.0\n",
    "δt = 0.01\n",
    "κ = 100\n",
    "p0 = jnp.zeros(5 * κ).at[1].set(1.0)\n",
    "saveat = dx.SaveAt(ts=jnp.linspace(t0, t1, 200))\n",
    "stepsize_controller = dx.PIDController(rtol=1e-5, atol=1e-5)"
   ]
  },
  {
   "cell_type": "code",
   "execution_count": 140,
   "metadata": {},
   "outputs": [],
   "source": [
    "sol = dx.diffeqsolve(\n",
    "    term,\n",
    "    solver,\n",
    "    t0,\n",
    "    t1,\n",
    "    δt,\n",
    "    p0,\n",
    "    args=κ,\n",
    "    saveat=saveat,\n",
    "    stepsize_controller=stepsize_controller,\n",
    "    # max_steps=None,\n",
    ")\n"
   ]
  },
  {
   "attachments": {},
   "cell_type": "markdown",
   "metadata": {},
   "source": [
    "Plot quantiles of the solution alongside the specified carrying capacity."
   ]
  },
  {
   "cell_type": "code",
   "execution_count": 141,
   "metadata": {},
   "outputs": [],
   "source": [
    "quantiles = [0.25, 0.75]\n",
    "cdfs = sol.ys.cumsum(axis=1)\n",
    "quantile_trajectories = jnp.zeros((len(quantiles), len(cdfs)))\n",
    "for i, q in enumerate(quantiles):\n",
    "    for j, cdf in enumerate(cdfs):\n",
    "        idx = jnp.argmax(cdf > q)\n",
    "        quantile_trajectories = quantile_trajectories.at[i, j].set(idx)\n"
   ]
  },
  {
   "cell_type": "code",
   "execution_count": 147,
   "metadata": {},
   "outputs": [
    {
     "data": {
      "image/png": "[encoded data removed]",
      "text/plain": [
       "<Figure size 600x400 with 1 Axes>"
      ]
     },
     "metadata": {},
     "output_type": "display_data"
    }
   ],
   "source": [
    "plt.figure(figsize=(6, 4))\n",
    "# plt.pcolor(sol.ts, jnp.arange(len(sol.ys[0])), sol.ys.T)\n",
    "# plt.contourf(sol.ts, jnp.arange(len(sol.ys[0])), sol.ys.T, cbar=None)\n",
    "n = jnp.arange(sol.ys.shape[1])\n",
    "mean_trajectory = (n * sol.ys).sum(1)\n",
    "plt.axhline(κ, color=\"k\", linestyle=\"--\", label=\"capacity\")\n",
    "plt.plot(sol.ts, mean_trajectory, label=\"mean\")\n",
    "plt.fill_between(sol.ts, *quantile_trajectories, alpha=0.2, color=\"C0\", label=\"IQR\")\n",
    "plt.xlabel(\"$t$\")\n",
    "plt.ylabel(\"$p_n(t)$\")\n",
    "plt.legend(loc=\"upper left\")\n",
    "plt.xlim(sol.ts[0], sol.ts[-1])\n",
    "plt.ylim(0, None)\n",
    "plt.show()"
   ]
  },
  {
   "cell_type": "code",
   "execution_count": null,
   "metadata": {},
   "outputs": [],
   "source": []
  }
 ],
 "metadata": {
  "kernelspec": {
   "display_name": "mfbd",
   "language": "python",
   "name": "python3"
  },
  "language_info": {
   "codemirror_mode": {
    "name": "ipython",
    "version": 3
   },
   "file_extension": ".py",
   "mimetype": "text/x-python",
   "name": "python",
   "nbconvert_exporter": "python",
   "pygments_lexer": "ipython3",
   "version": "3.10.11"
  },
  "orig_nbformat": 4
 },
 "nbformat": 4,
 "nbformat_minor": 2
}
